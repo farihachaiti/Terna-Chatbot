{
 "cells": [
  {
   "cell_type": "markdown",
   "id": "ea62758d-9e8b-4701-ac80-3566806e9d91",
   "metadata": {},
   "source": [
    "# Building an Interactive Private AI Chatbot for PDF Interaction\n",
    "\n",
    "## Step 1: Set Up Your Environment\n",
    "1. **Install Required Libraries**: Python and pip, langchain, streamlit, Ollama and ChromaDB.\n",
    "2. **Set Up a Virtual Environment** (optional): Create a virtual environment to manage your project dependencies.\n",
    "\n",
    "## Step 2: Load Your PDFs\n",
    "1. **Extract Text from PDFs**: Use a PDF text extraction tool or library to read and extract text from your PDF files.\n",
    "2. **Store Extracted Text**: Save the extracted text in a suitable format (like a list or a database) for later use.\n",
    "\n",
    "## Step 3: Set Up ChromaDB\n",
    "1. **Initialize ChromaDB**: Create a ChromaDB instance to serve as your embedding store.\n",
    "2. **Insert Extracted Text**: Add the extracted text to ChromaDB for querying purposes.\n",
    "\n",
    "## Step 4: Use streamlit to create an intaractive front end\n",
    "1. **Set Up LlamaStrimlet**: Create an instance of the LlamaStrimlet chatbot.\n",
    "2. **Define Interaction Logic**: Establish how the chatbot will respond to user queries by querying ChromaDB and retrieving relevant information.\n",
    "\n",
    "## Step 5: Create an Interactive Interface\n",
    "1. **Set Up a Simple User Interface**: Decide whether to use a command-line interface or a web framework for user interaction.\n",
    "2. **Implement User Input Handling**: Allow users to input their questions and receive responses from the chatbot.\n",
    "\n",
    "## Step 6: Test and Refine\n",
    "1. **Run Your Chatbot**: Test your chatbot with different queries to ensure it retrieves the correct information.\n",
    "2. **Improve User Experience**: Refine the chatbot’s functionality based on testing, adding features or improving responses as necessary.\n",
    "\n",
    "## Step 7: Ship all the code as a docker image\n"
   ]
  },
  {
   "cell_type": "markdown",
   "id": "da5363f5-5a18-41ee-97f9-f7189a594ad0",
   "metadata": {},
   "source": [
    "# **Step One**\n"
   ]
  },
  {
   "cell_type": "markdown",
   "id": "fec69ff1-1889-49ab-bd2a-cf6b225578e9",
   "metadata": {},
   "source": [
    "\n",
    "### Download and Install Ollama:\n",
    "- **`[Download Ollama](https://ollama.com/download)`**: This hyperlink is to the Ollama website.\n",
    "- **`Install the exe for the case of windows and otherwise for the other os versions`**\n",
    "- **```ollama pull llama ```**: Run the command in the terminal.\n"
   ]
  },
  {
   "cell_type": "code",
   "execution_count": 2,
   "id": "9302f135-7ae9-45d5-8899-fb40cf7d09fb",
   "metadata": {},
   "outputs": [
    {
     "name": "stdout",
     "output_type": "stream",
     "text": [
      "Note: you may need to restart the kernel to use updated packages.\n"
     ]
    }
   ],
   "source": [
    "# install libraries\n",
    "\n",
    "%pip install -qU langchain-community unstructured"
   ]
  },
  {
   "cell_type": "code",
   "execution_count": 3,
   "id": "61542c70-7186-4334-8675-88c554f243a7",
   "metadata": {},
   "outputs": [
    {
     "ename": "NameError",
     "evalue": "name 'text_splitter' is not defined",
     "output_type": "error",
     "traceback": [
      "\u001b[1;31m---------------------------------------------------------------------------\u001b[0m",
      "\u001b[1;31mNameError\u001b[0m                                 Traceback (most recent call last)",
      "Cell \u001b[1;32mIn[3], line 6\u001b[0m\n\u001b[0;32m      3\u001b[0m loader \u001b[38;5;241m=\u001b[39m UnstructuredPDFLoader(\u001b[38;5;124m\"\u001b[39m\u001b[38;5;124mFundamentals of Information Technology.pdf\u001b[39m\u001b[38;5;124m\"\u001b[39m)\n\u001b[0;32m      5\u001b[0m \u001b[38;5;66;03m#Split the PDF text into chunks\u001b[39;00m\n\u001b[1;32m----> 6\u001b[0m chunks \u001b[38;5;241m=\u001b[39m \u001b[43mtext_splitter\u001b[49m\u001b[38;5;241m.\u001b[39msplit_documents(documents)\n\u001b[0;32m      8\u001b[0m \u001b[38;5;66;03m# Step 4: Print each chunk\u001b[39;00m\n\u001b[0;32m      9\u001b[0m \u001b[38;5;28;01mfor\u001b[39;00m i, chunk \u001b[38;5;129;01min\u001b[39;00m \u001b[38;5;28menumerate\u001b[39m(chunks):\n",
      "\u001b[1;31mNameError\u001b[0m: name 'text_splitter' is not defined"
     ]
    }
   ],
   "source": [
    "# load pdf\n",
    "from langchain.document_loaders import UnstructuredPDFLoader\n",
    "loader = UnstructuredPDFLoader(\"Fundamentals of Information Technology.pdf\")\n",
    "\n",
    "#Split the PDF text into chunks\n",
    "chunks = text_splitter.split_documents(documents)\n",
    "\n",
    "# Step 4: Print each chunk\n",
    "for i, chunk in enumerate(chunks):\n",
    "    print(f\"Chunk {i+1}:\\n{chunk.page_content}\\n{'-'*80}\")"
   ]
  }
 ],
 "metadata": {
  "kernelspec": {
   "display_name": "Python 3 (ipykernel)",
   "language": "python",
   "name": "python3"
  },
  "language_info": {
   "codemirror_mode": {
    "name": "ipython",
    "version": 3
   },
   "file_extension": ".py",
   "mimetype": "text/x-python",
   "name": "python",
   "nbconvert_exporter": "python",
   "pygments_lexer": "ipython3",
   "version": "3.12.6"
  }
 },
 "nbformat": 4,
 "nbformat_minor": 5
}
